{
 "cells": [
  {
   "cell_type": "code",
   "execution_count": 1,
   "metadata": {
    "collapsed": true
   },
   "outputs": [],
   "source": [
    "import requests\n",
    "from requests.auth import HTTPBasicAuth"
   ]
  },
  {
   "cell_type": "code",
   "execution_count": 2,
   "metadata": {
    "collapsed": true
   },
   "outputs": [],
   "source": [
    "def hana_request(url):\n",
    "    return requests.get(url, auth=HTTPBasicAuth('DEV01','LeadTek01')).json()"
   ]
  },
  {
   "cell_type": "code",
   "execution_count": 3,
   "metadata": {
    "collapsed": false,
    "scrolled": true
   },
   "outputs": [
    {
     "data": {
      "text/plain": [
       "{u'd': {u'results': [{u'Amt': 33067510,\n",
       "    u'GrossMargin': 18682037,\n",
       "    u'GrossMarginRate': u'56.5',\n",
       "    u'SBG': u'IIoT',\n",
       "    u'SourceCost': 14385501,\n",
       "    u'YYMM': u'201501',\n",
       "    u'__metadata': {u'type': u'ADVANTECH_HANA_APP.SALES_TREND.SALESTRENDType',\n",
       "     u'uri': u\"http://172.16.17.10:8001/ADVANTECH_HANA_APP/SALES_TREND.xsodata/SALESTREND('202437744421137061')\"}},\n",
       "   {u'Amt': 25775009,\n",
       "    u'GrossMargin': 15174972,\n",
       "    u'GrossMarginRate': u'58.87',\n",
       "    u'SBG': u'IIoT',\n",
       "    u'SourceCost': 10599965,\n",
       "    u'YYMM': u'201502',\n",
       "    u'__metadata': {u'type': u'ADVANTECH_HANA_APP.SALES_TREND.SALESTRENDType',\n",
       "     u'uri': u\"http://172.16.17.10:8001/ADVANTECH_HANA_APP/SALES_TREND.xsodata/SALESTREND('202437744421137062')\"}},\n",
       "   {u'Amt': 39112374,\n",
       "    u'GrossMargin': 21181521,\n",
       "    u'GrossMarginRate': u'54.16',\n",
       "    u'SBG': u'IIoT',\n",
       "    u'SourceCost': 17930903,\n",
       "    u'YYMM': u'201503',\n",
       "    u'__metadata': {u'type': u'ADVANTECH_HANA_APP.SALES_TREND.SALESTRENDType',\n",
       "     u'uri': u\"http://172.16.17.10:8001/ADVANTECH_HANA_APP/SALES_TREND.xsodata/SALESTREND('202437744421137063')\"}},\n",
       "   {u'Amt': 35786514,\n",
       "    u'GrossMargin': 19926138,\n",
       "    u'GrossMarginRate': u'55.68',\n",
       "    u'SBG': u'IIoT',\n",
       "    u'SourceCost': 15860429,\n",
       "    u'YYMM': u'201504',\n",
       "    u'__metadata': {u'type': u'ADVANTECH_HANA_APP.SALES_TREND.SALESTRENDType',\n",
       "     u'uri': u\"http://172.16.17.10:8001/ADVANTECH_HANA_APP/SALES_TREND.xsodata/SALESTREND('202437744421137064')\"}},\n",
       "   {u'Amt': 36425798,\n",
       "    u'GrossMargin': 19470944,\n",
       "    u'GrossMarginRate': u'53.45',\n",
       "    u'SBG': u'IIoT',\n",
       "    u'SourceCost': 16954802,\n",
       "    u'YYMM': u'201505',\n",
       "    u'__metadata': {u'type': u'ADVANTECH_HANA_APP.SALES_TREND.SALESTRENDType',\n",
       "     u'uri': u\"http://172.16.17.10:8001/ADVANTECH_HANA_APP/SALES_TREND.xsodata/SALESTREND('202437744421137065')\"}},\n",
       "   {u'Amt': 36654715,\n",
       "    u'GrossMargin': 20489386,\n",
       "    u'GrossMarginRate': u'55.9',\n",
       "    u'SBG': u'IIoT',\n",
       "    u'SourceCost': 16165282,\n",
       "    u'YYMM': u'201506',\n",
       "    u'__metadata': {u'type': u'ADVANTECH_HANA_APP.SALES_TREND.SALESTRENDType',\n",
       "     u'uri': u\"http://172.16.17.10:8001/ADVANTECH_HANA_APP/SALES_TREND.xsodata/SALESTREND('202437744421137066')\"}},\n",
       "   {u'Amt': 34868114,\n",
       "    u'GrossMargin': 19488487,\n",
       "    u'GrossMarginRate': u'55.89',\n",
       "    u'SBG': u'IIoT',\n",
       "    u'SourceCost': 15379675,\n",
       "    u'YYMM': u'201507',\n",
       "    u'__metadata': {u'type': u'ADVANTECH_HANA_APP.SALES_TREND.SALESTRENDType',\n",
       "     u'uri': u\"http://172.16.17.10:8001/ADVANTECH_HANA_APP/SALES_TREND.xsodata/SALESTREND('202437744421137067')\"}},\n",
       "   {u'Amt': 34269066,\n",
       "    u'GrossMargin': 20070086,\n",
       "    u'GrossMarginRate': u'58.57',\n",
       "    u'SBG': u'IIoT',\n",
       "    u'SourceCost': 14199019,\n",
       "    u'YYMM': u'201508',\n",
       "    u'__metadata': {u'type': u'ADVANTECH_HANA_APP.SALES_TREND.SALESTRENDType',\n",
       "     u'uri': u\"http://172.16.17.10:8001/ADVANTECH_HANA_APP/SALES_TREND.xsodata/SALESTREND('202437744421137068')\"}},\n",
       "   {u'Amt': 33454581,\n",
       "    u'GrossMargin': 19565629,\n",
       "    u'GrossMarginRate': u'58.48',\n",
       "    u'SBG': u'IIoT',\n",
       "    u'SourceCost': 13889100,\n",
       "    u'YYMM': u'201509',\n",
       "    u'__metadata': {u'type': u'ADVANTECH_HANA_APP.SALES_TREND.SALESTRENDType',\n",
       "     u'uri': u\"http://172.16.17.10:8001/ADVANTECH_HANA_APP/SALES_TREND.xsodata/SALESTREND('202437744421137069')\"}},\n",
       "   {u'Amt': 33165475,\n",
       "    u'GrossMargin': 19032604,\n",
       "    u'GrossMarginRate': u'57.39',\n",
       "    u'SBG': u'IIoT',\n",
       "    u'SourceCost': 14132965,\n",
       "    u'YYMM': u'201510',\n",
       "    u'__metadata': {u'type': u'ADVANTECH_HANA_APP.SALES_TREND.SALESTRENDType',\n",
       "     u'uri': u\"http://172.16.17.10:8001/ADVANTECH_HANA_APP/SALES_TREND.xsodata/SALESTREND('2024377444211370610')\"}},\n",
       "   {u'Amt': 34113373,\n",
       "    u'GrossMargin': 19454727,\n",
       "    u'GrossMarginRate': u'57.03',\n",
       "    u'SBG': u'IIoT',\n",
       "    u'SourceCost': 14658629,\n",
       "    u'YYMM': u'201511',\n",
       "    u'__metadata': {u'type': u'ADVANTECH_HANA_APP.SALES_TREND.SALESTRENDType',\n",
       "     u'uri': u\"http://172.16.17.10:8001/ADVANTECH_HANA_APP/SALES_TREND.xsodata/SALESTREND('2024377444211370611')\"}},\n",
       "   {u'Amt': 35018955,\n",
       "    u'GrossMargin': 18873085,\n",
       "    u'GrossMarginRate': u'53.89',\n",
       "    u'SBG': u'IIoT',\n",
       "    u'SourceCost': 16145870,\n",
       "    u'YYMM': u'201512',\n",
       "    u'__metadata': {u'type': u'ADVANTECH_HANA_APP.SALES_TREND.SALESTRENDType',\n",
       "     u'uri': u\"http://172.16.17.10:8001/ADVANTECH_HANA_APP/SALES_TREND.xsodata/SALESTREND('2024377444211370612')\"}}]}}"
      ]
     },
     "execution_count": 3,
     "metadata": {},
     "output_type": "execute_result"
    }
   ],
   "source": [
    "\n",
    "\n",
    "year_2015 = u\"http://172.16.17.10:8001/ADVANTECH_HANA_APP/SALES_TREND.xsodata/SALESTREND?$filter=YYYY eq '2015' and SBG eq 'IIoT'&$select=YYMM,SBG,Amt,SourceCost,GrossMargin,GrossMarginRate&$format=json\"\n",
    "hana_request(year_2015)"
   ]
  },
  {
   "cell_type": "code",
   "execution_count": null,
   "metadata": {
    "collapsed": true
   },
   "outputs": [],
   "source": []
  },
  {
   "cell_type": "code",
   "execution_count": 4,
   "metadata": {
    "collapsed": false,
    "scrolled": true
   },
   "outputs": [
    {
     "data": {
      "text/plain": [
       "{u'd': {u'results': [{u'YYYY': u'2014',\n",
       "    u'__metadata': {u'type': u'ADVANTECH_HANA_APP.SALES_TREND.SALESTRENDType',\n",
       "     u'uri': u\"http://172.16.17.10:8001/ADVANTECH_HANA_APP/SALES_TREND.xsodata/SALESTREND('199026676259584151')\"}},\n",
       "   {u'YYYY': u'2015',\n",
       "    u'__metadata': {u'type': u'ADVANTECH_HANA_APP.SALES_TREND.SALESTRENDType',\n",
       "     u'uri': u\"http://172.16.17.10:8001/ADVANTECH_HANA_APP/SALES_TREND.xsodata/SALESTREND('199026676259584152')\"}},\n",
       "   {u'YYYY': u'2016',\n",
       "    u'__metadata': {u'type': u'ADVANTECH_HANA_APP.SALES_TREND.SALESTRENDType',\n",
       "     u'uri': u\"http://172.16.17.10:8001/ADVANTECH_HANA_APP/SALES_TREND.xsodata/SALESTREND('199026676259584153')\"}}]}}"
      ]
     },
     "execution_count": 4,
     "metadata": {},
     "output_type": "execute_result"
    }
   ],
   "source": [
    "filter_year = u\"http://172.16.17.10:8001/ADVANTECH_HANA_APP/SALES_TREND.xsodata/SALESTREND?$select=YYYY&$format=json\"\n",
    "hana_request(filter_year)"
   ]
  },
  {
   "cell_type": "code",
   "execution_count": 5,
   "metadata": {
    "collapsed": false
   },
   "outputs": [
    {
     "data": {
      "text/plain": [
       "{u'd': {u'results': [{u'SBG': u'IIoT',\n",
       "    u'__metadata': {u'type': u'ADVANTECH_HANA_APP.SALES_TREND.SALESTRENDType',\n",
       "     u'uri': u\"http://172.16.17.10:8001/ADVANTECH_HANA_APP/SALES_TREND.xsodata/SALESTREND('199026687087706841')\"}},\n",
       "   {u'SBG': u'LeadTek',\n",
       "    u'__metadata': {u'type': u'ADVANTECH_HANA_APP.SALES_TREND.SALESTRENDType',\n",
       "     u'uri': u\"http://172.16.17.10:8001/ADVANTECH_HANA_APP/SALES_TREND.xsodata/SALESTREND('199026687087706842')\"}}]}}"
      ]
     },
     "execution_count": 5,
     "metadata": {},
     "output_type": "execute_result"
    }
   ],
   "source": [
    "filter_sbg = u\"http://172.16.17.10:8001/ADVANTECH_HANA_APP/SALES_TREND.xsodata/SALESTREND?$select=SBG&$format=json\"\n",
    "hana_request(filter_sbg)"
   ]
  },
  {
   "cell_type": "code",
   "execution_count": null,
   "metadata": {
    "collapsed": true
   },
   "outputs": [],
   "source": []
  },
  {
   "cell_type": "code",
   "execution_count": null,
   "metadata": {
    "collapsed": true
   },
   "outputs": [],
   "source": []
  }
 ],
 "metadata": {
  "kernelspec": {
   "display_name": "Python 2",
   "language": "python",
   "name": "python2"
  },
  "language_info": {
   "codemirror_mode": {
    "name": "ipython",
    "version": 2
   },
   "file_extension": ".py",
   "mimetype": "text/x-python",
   "name": "python",
   "nbconvert_exporter": "python",
   "pygments_lexer": "ipython2",
   "version": "2.7.10"
  }
 },
 "nbformat": 4,
 "nbformat_minor": 0
}
