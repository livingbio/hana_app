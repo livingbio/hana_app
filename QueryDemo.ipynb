{
 "cells": [
  {
   "cell_type": "code",
   "execution_count": 1,
   "metadata": {
    "collapsed": true
   },
   "outputs": [],
   "source": [
    "import requests\n",
    "from requests.auth import HTTPBasicAuth"
   ]
  },
  {
   "cell_type": "code",
   "execution_count": 2,
   "metadata": {
    "collapsed": true
   },
   "outputs": [],
   "source": [
    "def hana_request(url):\n",
    "    return requests.get(url, auth=HTTPBasicAuth('DEV01','LeadTek01'))"
   ]
  },
  {
   "cell_type": "code",
   "execution_count": 3,
   "metadata": {
    "collapsed": false,
    "scrolled": true
   },
   "outputs": [
    {
     "data": {
      "text/plain": [
       "<Response [200]>"
      ]
     },
     "execution_count": 3,
     "metadata": {},
     "output_type": "execute_result"
    }
   ],
   "source": [
    "\n",
    "\n",
    "year_2015 = u\"http://172.16.17.10:8001/ADVANTECH_HANA_APP/SALES_TREND.xsodata/SALESTREND?$filter=YYYY eq '2015' and SBG eq 'IIoT'&$select=YYMM,SBG,Amt,SourceCost,GrossMargin,GrossMarginRate&$format=json\"\n",
    "r = hana_request(year_2015)\n",
    "r"
   ]
  },
  {
   "cell_type": "code",
   "execution_count": 18,
   "metadata": {
    "collapsed": false
   },
   "outputs": [
    {
     "data": {
      "text/html": [
       "<html>\\n                <head>\\n                    <title>Error 401 - Not authorized</title>\\n                    <style>\\n                        body {\\n                            color: #F0AB00;\\n                            font: 12px Arial,Helvetica,sans-serif;\\n                            background-repeat: no-repeat;\\n                            background-size: 100%;\\n                            height: 100%;\\n                            margin: 0;\\n                            background: #000000; /* Old browsers */\\n                            background: -moz-linear-gradient(top, #000000 55%, #666666 100%); /* FF3.6+ */\\n                            background: -webkit-gradient(linear, left top, left bottom, color-stop(55%,#000000), color-stop(100%,#666666)); /* Chrome,Safari4+ */\\n                            background: -webkit-linear-gradient(top, #000000 55%,#666666 100%); /* Chrome10+,Safari5.1+ */\\n                            background: -o-linear-gradient(top, #000000 55%,#666666 100%); /* Opera11.10+ */\\n                            background: -ms-linear-gradient(top, #000000 55%,#666666 100%); /* IE10+ */\\n                            filter: progid:DXImageTransform.Microsoft.gradient( startColorstr=\\'#000000\\', endColorstr=\\'#666666\\',GradientType=0 ); /* IE6-9 */\\n                            background: linear-gradient(top, #000000 55%,#666666 100%); /* W3C */\\n                        }\\n                        #content {\\n                            background: #ffffff; /* Old browsers */\\n                            background: rgba(240, 171, 0, 0.9);\\n                            border: #FFFFFF 1px solid;\\n                            color: #222222;\\n                            position: absolute;\\n                            top: 50%;\\n                            left: 50%;\\n                            margin-left: -300px;\\n                            margin-top: -100px;\\n                            width: 600px;\\n                            height: 200px;\\n                            padding: 10px;\\n                            font-size: 17px;\\n                            -webkit-box-reflect: below 10px -webkit-gradient(linear, 0 0, 0 100%, from(transparent), color-stop(.66, transparent), to(#FFF));\\n                        }\\n                        #footer {\\n                            position: absolute;\\n                            bottom: 0px;\\n                            left: 50%;\\n                            text-align: center;\\n                            width: 220px;\\n                            margin-left: -110px;\\n                        }\\n                        #error h1 {\\n                            font-weight: normal;\\n                            font-size: 28px;\\n                            margin-bottom: 20px;\\n                            margin-top: 0;\\n                            color: #ffffff;\\n                        }\\n                        #solution {\\n                            position: absolute;\\n                            bottom: 10px;\\n                            left: 10px;\\n                        }\\n                        #solution h2 {\\n                            font-weight: bold;\\n                            font-size: 16px;\\n                            color: #ffffff;\\n                        }\\n                        #left {\\n                            width: 480px;\\n                            float: left;\\n                        }\\n                        #right {\\n                            position: absolute;\\n                            top: 0;\\n                            right: 0;\\n                            color: rgba(0,0,0,0.2);\\n                            width: 120px;\\n                            float: right;\\n                            font-size: 200px;\\n                            padding-top: 0;\\n                        }\\n                    </style>\\n                <!--[if lt IE 9]>\\n                    <style>\\n                        body {\\n                            background: #000000;\\n                        }\\n                        #content {\\n                            background: #f0ab00;\\n                        }\\n                    </style>\\n                <![endif]-->\\n                </head>\\n                <body>\\n                    <div id=\"content\">\\n                        <div id=\"error\">\\n                            <div id=\"left\">\\n                            <h1>401 - Not authorized</h1>\\nYou\\'re not allowed to access the specified resource.<br/>\\nCredentials are missing or incorrect.\\n</div>\\n                            <div id=\"right\">?</div>\\n                        </div>\\n                        <div id=\"solution\">\\n                            <h2>Possible solution</h2>\\nPlease enter valid credentials when being prompted.<br/>\\nIn case you forgot your credentials please contact your system administrator.\\n</div>\\n                    </div>\\n                    <div id=\"footer\">\\n                        powered by\\n                        <img src=\"data:image/gif;base64,R0lGODlhHwAQAOeKABxivBtlwBpmwBtmvxlqwBlqwRlrwhhuwxhvxBZ1yBN8zBR9zCB6yhCCzhGCzxODzw6I1A+I0xuH0RSK1A2N2BaL1A2P1wuT2xSR2AuU2z6Hzg+W3AqZ3gma3hWY3BaZ3Qef4geg4gih4h6b3gyi4wal5QWm5gen5lKT0x6j4R+j4g2p5wOs6QSs6QKx7QGy7QC38ECm32Kd11Cj3GKi2l2l3GWk216m3D2v5Tiz6DK260Oy5lKu4lSv43Oo20a46U+351605FK46HC04me45ni04n+z4We86Xe85oy34nTC65S85GnK8GrK8KPF53zQ8pHM7YvP75LS8JzR76jP7KXQ7Y3X9KDT75PZ9JjY86vT7qjU75/X8qrV75zZ87fS7KrX8aPZ86nZ8qjb86fd9bfZ8b/X76fg9q/i98De8rDj98Lh9Mfj9brn+Lzn+MDp+dTm9cjq+c/q+Nno9tjp99fr+Nft+dzt+N/u+eDu+N7w+uHw+dzy+9/y++jx+ufy+uTz++j1/PP5/fT6/fX6/fb6/ff6/fv9/vz+//3+/////////////////////////////////////////////////////////////////////////////////////////////////////////////////////////////////////////////////////////////////////////////////////////////////////////////////////////////////////////////////////////////////////////////////////////////////////////////////////////////////////////////////////////////////////////////////////////////////////////////////////////////////////////////////////////////////////////////////////////yH5BAEKAP8ALAAAAAAfABAAQAj+AP/BGEiwoMGDCGH8gzAByR5FELesUbQmQh1FXbpA3Mimwr+PID+CyLIRopcQPzbmCEGmpKI4JELIFBHygIYlX8w4QeHEiQwEQH30dJIEQcijIFuwWMq0qdOnT0GOQKRIzxEPGTJ8GKRIjqJAG8QospNhA1UlGS4gXVCESo0beVyWNKSIjoK7SEMGGMC3r9+/AvLmdfGisOHDiBMr/mjiRJM2fN5Y0dEYjZszJkw8ceNGDRYmKzKLLgFSRSJFXHAI4ZKiQ5iNUjqMUdRnRxSIQDp04HDUwpWNgqBgIKLoUAyIPMAoAhRkCsQeFPI2cODgwYw7xU/jqfJHUaEyiggvpdEyRILgfwz8lDwEEY4NIzTUQ5yTIMH5jwYK6N/Pv38BAveFBMCABBZYYIBHBQQAOw==\">\\n                        XSEngine\\n                    </div>\\n                </body>\\n            </html>"
      ],
      "text/plain": [
       "<IPython.core.display.HTML object>"
      ]
     },
     "metadata": {},
     "output_type": "display_data"
    }
   ],
   "source": [
    "%%html\n",
    "<html>\\n                <head>\\n                    <title>Error 401 - Not authorized</title>\\n                    <style>\\n                        body {\\n                            color: #F0AB00;\\n                            font: 12px Arial,Helvetica,sans-serif;\\n                            background-repeat: no-repeat;\\n                            background-size: 100%;\\n                            height: 100%;\\n                            margin: 0;\\n                            background: #000000; /* Old browsers */\\n                            background: -moz-linear-gradient(top, #000000 55%, #666666 100%); /* FF3.6+ */\\n                            background: -webkit-gradient(linear, left top, left bottom, color-stop(55%,#000000), color-stop(100%,#666666)); /* Chrome,Safari4+ */\\n                            background: -webkit-linear-gradient(top, #000000 55%,#666666 100%); /* Chrome10+,Safari5.1+ */\\n                            background: -o-linear-gradient(top, #000000 55%,#666666 100%); /* Opera11.10+ */\\n                            background: -ms-linear-gradient(top, #000000 55%,#666666 100%); /* IE10+ */\\n                            filter: progid:DXImageTransform.Microsoft.gradient( startColorstr=\\'#000000\\', endColorstr=\\'#666666\\',GradientType=0 ); /* IE6-9 */\\n                            background: linear-gradient(top, #000000 55%,#666666 100%); /* W3C */\\n                        }\\n                        #content {\\n                            background: #ffffff; /* Old browsers */\\n                            background: rgba(240, 171, 0, 0.9);\\n                            border: #FFFFFF 1px solid;\\n                            color: #222222;\\n                            position: absolute;\\n                            top: 50%;\\n                            left: 50%;\\n                            margin-left: -300px;\\n                            margin-top: -100px;\\n                            width: 600px;\\n                            height: 200px;\\n                            padding: 10px;\\n                            font-size: 17px;\\n                            -webkit-box-reflect: below 10px -webkit-gradient(linear, 0 0, 0 100%, from(transparent), color-stop(.66, transparent), to(#FFF));\\n                        }\\n                        #footer {\\n                            position: absolute;\\n                            bottom: 0px;\\n                            left: 50%;\\n                            text-align: center;\\n                            width: 220px;\\n                            margin-left: -110px;\\n                        }\\n                        #error h1 {\\n                            font-weight: normal;\\n                            font-size: 28px;\\n                            margin-bottom: 20px;\\n                            margin-top: 0;\\n                            color: #ffffff;\\n                        }\\n                        #solution {\\n                            position: absolute;\\n                            bottom: 10px;\\n                            left: 10px;\\n                        }\\n                        #solution h2 {\\n                            font-weight: bold;\\n                            font-size: 16px;\\n                            color: #ffffff;\\n                        }\\n                        #left {\\n                            width: 480px;\\n                            float: left;\\n                        }\\n                        #right {\\n                            position: absolute;\\n                            top: 0;\\n                            right: 0;\\n                            color: rgba(0,0,0,0.2);\\n                            width: 120px;\\n                            float: right;\\n                            font-size: 200px;\\n                            padding-top: 0;\\n                        }\\n                    </style>\\n                <!--[if lt IE 9]>\\n                    <style>\\n                        body {\\n                            background: #000000;\\n                        }\\n                        #content {\\n                            background: #f0ab00;\\n                        }\\n                    </style>\\n                <![endif]-->\\n                </head>\\n                <body>\\n                    <div id=\"content\">\\n                        <div id=\"error\">\\n                            <div id=\"left\">\\n                            <h1>401 - Not authorized</h1>\\nYou\\'re not allowed to access the specified resource.<br/>\\nCredentials are missing or incorrect.\\n</div>\\n                            <div id=\"right\">?</div>\\n                        </div>\\n                        <div id=\"solution\">\\n                            <h2>Possible solution</h2>\\nPlease enter valid credentials when being prompted.<br/>\\nIn case you forgot your credentials please contact your system administrator.\\n</div>\\n                    </div>\\n                    <div id=\"footer\">\\n                        powered by\\n                        <img src=\"data:image/gif;base64,R0lGODlhHwAQAOeKABxivBtlwBpmwBtmvxlqwBlqwRlrwhhuwxhvxBZ1yBN8zBR9zCB6yhCCzhGCzxODzw6I1A+I0xuH0RSK1A2N2BaL1A2P1wuT2xSR2AuU2z6Hzg+W3AqZ3gma3hWY3BaZ3Qef4geg4gih4h6b3gyi4wal5QWm5gen5lKT0x6j4R+j4g2p5wOs6QSs6QKx7QGy7QC38ECm32Kd11Cj3GKi2l2l3GWk216m3D2v5Tiz6DK260Oy5lKu4lSv43Oo20a46U+351605FK46HC04me45ni04n+z4We86Xe85oy34nTC65S85GnK8GrK8KPF53zQ8pHM7YvP75LS8JzR76jP7KXQ7Y3X9KDT75PZ9JjY86vT7qjU75/X8qrV75zZ87fS7KrX8aPZ86nZ8qjb86fd9bfZ8b/X76fg9q/i98De8rDj98Lh9Mfj9brn+Lzn+MDp+dTm9cjq+c/q+Nno9tjp99fr+Nft+dzt+N/u+eDu+N7w+uHw+dzy+9/y++jx+ufy+uTz++j1/PP5/fT6/fX6/fb6/ff6/fv9/vz+//3+/////////////////////////////////////////////////////////////////////////////////////////////////////////////////////////////////////////////////////////////////////////////////////////////////////////////////////////////////////////////////////////////////////////////////////////////////////////////////////////////////////////////////////////////////////////////////////////////////////////////////////////////////////////////////////////////////////////////////////////yH5BAEKAP8ALAAAAAAfABAAQAj+AP/BGEiwoMGDCGH8gzAByR5FELesUbQmQh1FXbpA3Mimwr+PID+CyLIRopcQPzbmCEGmpKI4JELIFBHygIYlX8w4QeHEiQwEQH30dJIEQcijIFuwWMq0qdOnT0GOQKRIzxEPGTJ8GKRIjqJAG8QospNhA1UlGS4gXVCESo0beVyWNKSIjoK7SEMGGMC3r9+/AvLmdfGisOHDiBMr/mjiRJM2fN5Y0dEYjZszJkw8ceNGDRYmKzKLLgFSRSJFXHAI4ZKiQ5iNUjqMUdRnRxSIQDp04HDUwpWNgqBgIKLoUAyIPMAoAhRkCsQeFPI2cODgwYw7xU/jqfJHUaEyiggvpdEyRILgfwz8lDwEEY4NIzTUQ5yTIMH5jwYK6N/Pv38BAveFBMCABBZYYIBHBQQAOw==\">\\n                        XSEngine\\n                    </div>\\n                </body>\\n            </html>\n"
   ]
  },
  {
   "cell_type": "code",
   "execution_count": 4,
   "metadata": {
    "collapsed": false,
    "scrolled": true
   },
   "outputs": [
    {
     "data": {
      "text/plain": [
       "{u'd': {u'results': [{u'YYYY': u'2014',\n",
       "    u'__metadata': {u'type': u'ADVANTECH_HANA_APP.SALES_TREND.SALESTRENDType',\n",
       "     u'uri': u\"http://172.16.17.10:8001/ADVANTECH_HANA_APP/SALES_TREND.xsodata/SALESTREND('199026676259584151')\"}},\n",
       "   {u'YYYY': u'2015',\n",
       "    u'__metadata': {u'type': u'ADVANTECH_HANA_APP.SALES_TREND.SALESTRENDType',\n",
       "     u'uri': u\"http://172.16.17.10:8001/ADVANTECH_HANA_APP/SALES_TREND.xsodata/SALESTREND('199026676259584152')\"}},\n",
       "   {u'YYYY': u'2016',\n",
       "    u'__metadata': {u'type': u'ADVANTECH_HANA_APP.SALES_TREND.SALESTRENDType',\n",
       "     u'uri': u\"http://172.16.17.10:8001/ADVANTECH_HANA_APP/SALES_TREND.xsodata/SALESTREND('199026676259584153')\"}}]}}"
      ]
     },
     "execution_count": 4,
     "metadata": {},
     "output_type": "execute_result"
    }
   ],
   "source": [
    "filter_year = u\"http://172.16.17.10:8001/ADVANTECH_HANA_APP/SALES_TREND.xsodata/SALESTREND?$select=YYYY&$format=json\"\n",
    "hana_request(filter_year)"
   ]
  },
  {
   "cell_type": "code",
   "execution_count": 5,
   "metadata": {
    "collapsed": false
   },
   "outputs": [
    {
     "data": {
      "text/plain": [
       "{u'd': {u'results': [{u'SBG': u'IIoT',\n",
       "    u'__metadata': {u'type': u'ADVANTECH_HANA_APP.SALES_TREND.SALESTRENDType',\n",
       "     u'uri': u\"http://172.16.17.10:8001/ADVANTECH_HANA_APP/SALES_TREND.xsodata/SALESTREND('199026687087706841')\"}},\n",
       "   {u'SBG': u'LeadTek',\n",
       "    u'__metadata': {u'type': u'ADVANTECH_HANA_APP.SALES_TREND.SALESTRENDType',\n",
       "     u'uri': u\"http://172.16.17.10:8001/ADVANTECH_HANA_APP/SALES_TREND.xsodata/SALESTREND('199026687087706842')\"}}]}}"
      ]
     },
     "execution_count": 5,
     "metadata": {},
     "output_type": "execute_result"
    }
   ],
   "source": [
    "filter_sbg = u\"http://172.16.17.10:8001/ADVANTECH_HANA_APP/SALES_TREND.xsodata/SALESTREND?$select=SBG&$format=json\"\n",
    "hana_request(filter_sbg)"
   ]
  },
  {
   "cell_type": "code",
   "execution_count": null,
   "metadata": {
    "collapsed": true
   },
   "outputs": [],
   "source": []
  },
  {
   "cell_type": "code",
   "execution_count": null,
   "metadata": {
    "collapsed": true
   },
   "outputs": [],
   "source": []
  }
 ],
 "metadata": {
  "kernelspec": {
   "display_name": "Python 2",
   "language": "python",
   "name": "python2"
  },
  "language_info": {
   "codemirror_mode": {
    "name": "ipython",
    "version": 2
   },
   "file_extension": ".py",
   "mimetype": "text/x-python",
   "name": "python",
   "nbconvert_exporter": "python",
   "pygments_lexer": "ipython2",
   "version": "2.7.10"
  }
 },
 "nbformat": 4,
 "nbformat_minor": 0
}
